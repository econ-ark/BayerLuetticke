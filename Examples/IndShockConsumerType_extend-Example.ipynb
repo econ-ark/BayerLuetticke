{
 "cells": [
  {
   "cell_type": "markdown",
   "id": "54f0278c",
   "metadata": {},
   "source": [
    "# IndShockConsumerType_extend-Example\n",
    "\n",
    "By William Du"
   ]
  },
  {
   "cell_type": "markdown",
   "id": "ed8450bb",
   "metadata": {},
   "source": [
    "The following material assumes the reader is familiar with the IndShockConsumerType documentation. See [here](https://github.com/econ-ark/HARK/blob/master/examples/ConsIndShockModel/IndShockConsumerType.ipynb) for details."
   ]
  },
  {
   "cell_type": "code",
   "execution_count": 1,
   "id": "1f08d05f",
   "metadata": {},
   "outputs": [],
   "source": [
    "from __future__ import print_function\n",
    "import sys \n",
    "import os\n",
    "from copy import copy, deepcopy\n",
    "import numpy as np\n",
    "import scipy as sc\n",
    "from scipy import sparse as sp\n",
    "from HARK.ConsumptionSaving.ConsIndShockModel3 import IndShockConsumerType\n",
    "import matplotlib.pyplot as plt\n"
   ]
  },
  {
   "cell_type": "markdown",
   "id": "8f3a1a0c",
   "metadata": {},
   "source": [
    "This notebook provides two examples on how to implement the following three functions:\n",
    "\n",
    "#####  Define_Distribution_Grid \n",
    "- computes the grid of normalized market resources and the grid permanent income storing each as attributes.\n",
    "\n",
    "##### Calc_Transition_Matrix \n",
    "- computes the transition matrix, consumption policy grid, and an asset policy grid all stored as attributes. If the problem is finite horizon, this function stores lists of transition matrices, consumption policies and asset policies grid for each period of the problem.\n",
    "\n",
    "##### Calc_Ergodic_Dist \n",
    "- computes the ergodic distribution stored as attributes. The distribution is stored as a vector (self.VecErgDstn) and as an array with row dimension equal to the length of the grid over market resources and column dimension equal to the length of the grid over permanent income  (self.ErgDstn)\n"
   ]
  },
  {
   "cell_type": "markdown",
   "id": "25a610ea",
   "metadata": {},
   "source": [
    "# Example 1: \n",
    "# Computing Aggregate Consumption: Transition Matrix vs Simulation\n",
    "\n",
    "This section details how to compute aggregate consumption and aggregate assets using transition matrices and compares the results against aggregate values produced by Monte Carlo Simulate methods."
   ]
  },
  {
   "cell_type": "markdown",
   "id": "9cf94759",
   "metadata": {},
   "source": [
    "### Create and solve an Instance of IndShockConsumerType_extend \n",
    "\n",
    "We begin by creating an instance of the IndShockConsumerType_extend and solving his problem."
   ]
  },
  {
   "cell_type": "markdown",
   "id": "4b7e817f",
   "metadata": {},
   "source": [
    "### Specify Parameters"
   ]
  },
  {
   "cell_type": "code",
   "execution_count": 2,
   "id": "b7f01516",
   "metadata": {},
   "outputs": [],
   "source": [
    "\n",
    "Dict={\n",
    "    # Parameters shared with the perfect foresight model\n",
    "    \"CRRA\":2,                             # Coefficient of relative risk aversion\n",
    "    \"Rfree\": 1.05**.25,                   # Interest factor on assets\n",
    "    \"DiscFac\": 0.97,                      # Intertemporal discount factor\n",
    "    \"LivPrb\" : [.99375],                  # Survival probability\n",
    "    \"PermGroFac\" :[1.00],                 # Permanent income growth factor\n",
    "\n",
    "    # Parameters that specify the income distribution over the lifecycle\n",
    "   \n",
    "    \"PermShkStd\" :  [.05],                 # Standard deviation of log permanent shocks to income\n",
    "    \"PermShkCount\" : 5,                    # Number of points in discrete approximation to permanent income shocks\n",
    "    \"TranShkStd\" : [.3],                   # Standard deviation of log transitory shocks to income\n",
    "    \"TranShkCount\" : 5,                    # Number of points in discrete approximation to transitory income shocks\n",
    "    \"UnempPrb\" : 0.05,                     # Probability of unemployment while working\n",
    "    \"IncUnemp\" :  .2,                      # Unemployment benefits replacement rate\n",
    "    \"UnempPrbRet\" : 0.0005,                # Probability of \"unemployment\" while retired\n",
    "    \"IncUnempRet\" : 0.0,                   # \"Unemployment\" benefits when retired\n",
    "    \"T_retire\" : 0,                        # Period of retirement (0 --> no retirement)\n",
    "    \"tax_rate\" : .3,                       # Flat income tax rate (legacy parameter, will be removed in future)\n",
    "\n",
    "    # Parameters for constructing the \"assets above minimum\" grid\n",
    "    \"aXtraMin\" : 0.001,                    # Minimum end-of-period \"assets above minimum\" value\n",
    "    \"aXtraMax\" : 20,                       # Maximum end-of-period \"assets above minimum\" value\n",
    "    \"aXtraCount\" : 48,                     # Number of points in the base grid of \"assets above minimum\"\n",
    "    \"aXtraNestFac\" : 3,                    # Exponential nesting factor when constructing \"assets above minimum\" grid\n",
    "    \"aXtraExtra\" : [None],                 # Additional values to add to aXtraGrid\n",
    "\n",
    "    # A few other parameters\n",
    "    \"BoroCnstArt\" : 0.0,                   # Artificial borrowing constraint; imposed minimum level of end-of period assets\n",
    "    \"vFuncBool\" : False,                   # Whether to calculate the value function during solution\n",
    "    \"CubicBool\" : False,                   # Preference shocks currently only compatible with linear cFunc\n",
    "    \"T_cycle\" : 1,                         # Number of periods in the cycle for this agent type\n",
    "\n",
    "    # Parameters only used in simulation\n",
    "    \"AgentCount\" : 10000,                  # Number of agents of this type\n",
    "    \"T_sim\" : 2000,                        # Number of periods to simulate\n",
    "    \"aNrmInitMean\" : np.log(1.6)-(.5**2)/2,# Mean of log initial assets\n",
    "    \"aNrmInitStd\"  : .5,                   # Standard deviation of log initial assets\n",
    "    \"pLvlInitMean\" : 0.0,                  # Mean of log initial permanent income\n",
    "    \"pLvlInitStd\"  : 0.0,                  # Standard deviation of log initial permanent income\n",
    "    \"PermGroFacAgg\" : 1.0,                 # Aggregate permanent income growth factor\n",
    "    \"T_age\" : None,                        # Age after which simulated agents are automatically killed\n",
    "    \n",
    "     }\n",
    "\n"
   ]
  },
  {
   "cell_type": "code",
   "execution_count": 3,
   "id": "fae48368",
   "metadata": {},
   "outputs": [
    {
     "name": "stderr",
     "output_type": "stream",
     "text": [
      "GPFRaw                 = 0.990911 \n",
      "GPFNrm                 = 0.993135 \n",
      "GPFAggLivPrb           = 0.984718 \n",
      "Thorn = APF            = 0.990911 \n",
      "PermGroFacAdj          = 0.997760 \n",
      "uInvEpShkuInv          = 0.997760 \n",
      "VAF                    = 0.961779 \n",
      "WRPF                   = 0.218203 \n",
      "DiscFacGPFNrmMax       = 0.983457 \n",
      "DiscFacGPFAggLivPrbMax = 0.994090 \n"
     ]
    }
   ],
   "source": [
    "example1 = IndShockConsumerType(**Dict)\n",
    "example1.cycles = 0\n",
    "example1.solve()\n"
   ]
  },
  {
   "cell_type": "markdown",
   "id": "c93e81d7",
   "metadata": {},
   "source": [
    "## Method 1: Simulate \n",
    "\n",
    "Below we use Monte Carlo Simulation methods to compute the level of aggregate consumption and aggregate assets."
   ]
  },
  {
   "cell_type": "code",
   "execution_count": 4,
   "id": "749d88aa",
   "metadata": {},
   "outputs": [],
   "source": [
    "example1.initialize_sim()\n",
    "example1.simulate() #simulate\n",
    "\n",
    "Simulated_Consumption = np.mean((example1.state_now['mNrm'] - example1.state_now['aNrm'])*example1.state_now['pLvl']) #Compute aggregate consumption\n",
    "Simulated_Assets = np.mean(example1.state_now['aNrm']*example1.state_now['pLvl']) #Compute Aggregate assets"
   ]
  },
  {
   "cell_type": "markdown",
   "id": "c2507c98",
   "metadata": {},
   "source": [
    "## Method 2: Applying Transition Matrices"
   ]
  },
  {
   "cell_type": "markdown",
   "id": "69523747",
   "metadata": {},
   "source": [
    "To compute the level of aggregate consumption using the transition matrix, we begin by defining the grid over the distribution of market resources and permanent income and store the distribution of permanent income as p . "
   ]
  },
  {
   "cell_type": "code",
   "execution_count": 5,
   "id": "3f365d1f",
   "metadata": {},
   "outputs": [],
   "source": [
    "example1.Define_Distribution_Grid()\n",
    "p = example1.Dist_pGrid # Grid of permanent income levels"
   ]
  },
  {
   "cell_type": "markdown",
   "id": "7d839986",
   "metadata": {},
   "source": [
    "We then calculate the transition matrix and store the consumption and asset policy grid as c and asset. The transition matrix is stored as the attribute example1.TranMatrix to be used by the Calc_ergodic_Dist function."
   ]
  },
  {
   "cell_type": "code",
   "execution_count": 6,
   "id": "840356bd",
   "metadata": {},
   "outputs": [],
   "source": [
    "example1.Calc_Transition_Matrix()\n",
    "c = example1.cPolGrid #Consumption Policy Grid\n",
    "asset = example1.aPolGrid # Asset Policy Grid"
   ]
  },
  {
   "cell_type": "markdown",
   "id": "c0868bbd",
   "metadata": {},
   "source": [
    "Finally we compute the ergodic distribution and store the distribution as a vector. Under the hood of this function, it takes in the transition matrix calculated in the previous function (example1.TranMatrix) and computes the ergodic distribution."
   ]
  },
  {
   "cell_type": "code",
   "execution_count": 7,
   "id": "aa3f64fa",
   "metadata": {},
   "outputs": [],
   "source": [
    "example1.Calc_Ergodic_Dist()\n",
    "vecDstn = example1.VecErgDstn # Distribution of market resources as a vector "
   ]
  },
  {
   "cell_type": "markdown",
   "id": "d97e23b6",
   "metadata": {},
   "source": [
    "With the transition matrix, consumption and asset policy grid, and the distribution vector, we can now compute aggregate consumption."
   ]
  },
  {
   "cell_type": "code",
   "execution_count": 8,
   "id": "74c568e6",
   "metadata": {},
   "outputs": [],
   "source": [
    "\n",
    "gridc = np.zeros((len(c),len(p))) \n",
    "grida = np.zeros((len(asset),len(p)))\n",
    "\n",
    "#Transform normalized grid of consumption and asset policy into levels\n",
    "for j in range(len(p)):\n",
    "    gridc[:,j] = p[j]*c # Array of all possible combinations of consumption and permanent income.\n",
    "    grida[:,j] = p[j]*asset # Array of all possible combinations of assets and permanent income.\n",
    "    \n",
    "AggC = np.dot(gridc.flatten(),vecDstn) # Compute aggregate consumption by multiplying consumption policy grid by distribution\n",
    "AggA = np.dot(grida.flatten() ,vecDstn)# Compute aggregate assets by multiplying asset policy grid by distribution"
   ]
  },
  {
   "cell_type": "markdown",
   "id": "9b154384",
   "metadata": {},
   "source": [
    "We being by defining the grid over the distribution of market resources and permanent income."
   ]
  },
  {
   "cell_type": "markdown",
   "id": "41339815",
   "metadata": {},
   "source": [
    "##  Comparing Outputs of Both Methods"
   ]
  },
  {
   "cell_type": "code",
   "execution_count": 9,
   "id": "4508692e",
   "metadata": {},
   "outputs": [
    {
     "name": "stdout",
     "output_type": "stream",
     "text": [
      "TranMatrix Assets =1.1493665253316738\n",
      "Simulated Assets = 1.1878906213808793\n",
      "TranMatrix Consumption =1.0067640869283523\n",
      "Simulated Consumption = 1.0076918586002666\n"
     ]
    }
   ],
   "source": [
    "print('TranMatrix Assets =' + str(AggA[0]))\n",
    "print('Simulated Assets = ' +str(Simulated_Assets))\n",
    "\n",
    "print('TranMatrix Consumption =' + str(AggC[0]))\n",
    "print('Simulated Consumption = ' +str(Simulated_Consumption))"
   ]
  },
  {
   "cell_type": "markdown",
   "id": "899df730",
   "metadata": {},
   "source": [
    "## A Different Calibration"
   ]
  },
  {
   "cell_type": "markdown",
   "id": "423eb1ab",
   "metadata": {},
   "source": [
    "As a robustness check, the same exercise is implemented with a different set of parameters to see whether simulated aggregates match the aggregates produced with transition matrices. "
   ]
  },
  {
   "cell_type": "code",
   "execution_count": 10,
   "id": "fd3f2a9c",
   "metadata": {},
   "outputs": [],
   "source": [
    "example2 = IndShockConsumerType(**Dict)\n",
    "example2.cycles = 0\n",
    "\n",
    "#New Parameters\n",
    "example2.IncUnemp = .5\n",
    "example2.UnempPrb = .1\n",
    "example2.PermShkStd = [.03]\n",
    "example2.TranShkStd = [.1]\n",
    "example2.tax_rate = .1\n",
    "example2.Rfree = 1.02**.25\n",
    "example2.DiscFac = .99"
   ]
  },
  {
   "cell_type": "code",
   "execution_count": 11,
   "id": "1a7bbb3e",
   "metadata": {},
   "outputs": [
    {
     "name": "stderr",
     "output_type": "stream",
     "text": [
      "GPFRaw                 = 0.997453 \n",
      "GPFNrm                 = 0.999692 \n",
      "GPFAggLivPrb           = 0.991219 \n",
      "Thorn = APF            = 0.997453 \n",
      "PermGroFacAdj          = 0.997760 \n",
      "uInvEpShkuInv          = 0.997760 \n",
      "VAF                    = 0.981609 \n",
      "WRPF                   = 0.312882 \n",
      "DiscFacGPFNrmMax       = 0.990609 \n",
      "DiscFacGPFAggLivPrbMax = 1.001320 \n"
     ]
    }
   ],
   "source": [
    "example2.solve()\n",
    "example2.initialize_sim()\n",
    "example2.simulate()\n",
    "\n",
    "\n",
    "Simulated_Consumption = np.mean((example2.state_now['mNrm'] - example2.state_now['aNrm'])*example2.state_now['pLvl'])\n",
    "Simulated_Assets = np.mean(example2.state_now['aNrm']*example2.state_now['pLvl'])"
   ]
  },
  {
   "cell_type": "code",
   "execution_count": 12,
   "id": "81fab788",
   "metadata": {},
   "outputs": [],
   "source": [
    "example2.Define_Distribution_Grid()\n",
    "p = example2.Dist_pGrid # Grid of permanent income levels\n",
    "\n",
    "example2.Calc_Transition_Matrix()\n",
    "c = example2.cPolGrid #Consumption Policy Grid\n",
    "asset = example2.aPolGrid # Asset Policy Grid\n",
    "\n",
    "example2.Calc_Ergodic_Dist()\n",
    "vecDstn = example2.VecErgDstn # Distribution as a vector\n",
    "\n",
    "gridc = np.zeros((len(c),len(p)))\n",
    "grida = np.zeros((len(asset),len(p)))\n",
    "\n",
    "#Transform normalized grid of consumption and asset policy into levels\n",
    "for j in range(len(p)):\n",
    "    gridc[:,j] = p[j]*c\n",
    "    grida[:,j] = p[j]*asset\n",
    "    \n",
    "AggC = np.dot(gridc.flatten(),vecDstn)\n",
    "AggA = np.dot(grida.flatten() ,vecDstn)   "
   ]
  },
  {
   "cell_type": "code",
   "execution_count": 13,
   "id": "02d72da9",
   "metadata": {},
   "outputs": [
    {
     "name": "stdout",
     "output_type": "stream",
     "text": [
      "TranMatrix Assets =1.865483816969303\n",
      "Simulated Assets = 1.907460492421025\n",
      "TranMatrix Consumption =0.9973327527616564\n",
      "Simulated Consumption = 0.9974730909870996\n"
     ]
    }
   ],
   "source": [
    "print('TranMatrix Assets =' + str(AggA[0]))\n",
    "print('Simulated Assets = ' +str(Simulated_Assets))\n",
    "\n",
    "print('TranMatrix Consumption =' + str(AggC[0]))\n",
    "print('Simulated Consumption = ' +str(Simulated_Consumption))"
   ]
  },
  {
   "cell_type": "markdown",
   "id": "2600a24c",
   "metadata": {},
   "source": [
    "Note* Accuracy decreases as standard deviation of permanent shocks increases."
   ]
  },
  {
   "cell_type": "markdown",
   "id": "5405776d",
   "metadata": {},
   "source": [
    "# Example 2: \n",
    "# Computing the Path of Aggregate Consumption given a Pertubation in the Interest Rate\n",
    "\n",
    "This section details an experiment where agents anticipates a change in the interest rate at period $t = 10$ and plots the paths of aggregate consumption and aggregate assets."
   ]
  },
  {
   "cell_type": "markdown",
   "id": "f887786c",
   "metadata": {},
   "source": [
    "## Compute Steady State Aggregate Consumption"
   ]
  },
  {
   "cell_type": "markdown",
   "id": "063eb811",
   "metadata": {},
   "source": [
    "We begin by computing the steady state level of aggregate consumption. This is necesary to obtain the steady state consumption function to be inputed as the terminal solution for the next agent (see below). "
   ]
  },
  {
   "cell_type": "code",
   "execution_count": 14,
   "id": "40cb1b7b",
   "metadata": {},
   "outputs": [
    {
     "name": "stderr",
     "output_type": "stream",
     "text": [
      "GPFRaw                 = 0.990911 \n",
      "GPFNrm                 = 0.993135 \n",
      "GPFAggLivPrb           = 0.984718 \n",
      "Thorn = APF            = 0.990911 \n",
      "PermGroFacAdj          = 0.997760 \n",
      "uInvEpShkuInv          = 0.997760 \n",
      "VAF                    = 0.961779 \n",
      "WRPF                   = 0.218203 \n",
      "DiscFacGPFNrmMax       = 0.983457 \n",
      "DiscFacGPFAggLivPrbMax = 0.994090 \n"
     ]
    }
   ],
   "source": [
    "ss = IndShockConsumerType(**Dict) #\n",
    "ss.cycles = 0\n",
    "ss.solve()\n",
    "\n",
    "ss.Define_Distribution_Grid()\n",
    "p = ss.Dist_pGrid # Grid of permanent income \n",
    "\n",
    "ss.Calc_Transition_Matrix()\n",
    "c = ss.cPolGrid # Normalized Consumption Policy grid\n",
    "a = ss.aPolGrid #Normalized Asset Policy grid\n",
    "\n",
    "ss.Calc_Ergodic_Dist()\n",
    "vecDstn = ss.VecErgDstn # Distribution over market resources as a vector\n",
    "\n",
    "gridc = np.dot( c.reshape( len(c), 1 ) , p.reshape( 1 , len(p) ) ) #Transform grid from normalized consumption to level of consumption\n",
    "grida = np.dot( a.reshape( len(a), 1 ) , p.reshape( 1 , len(p) ) ) #Transform grid from normalized assets to level of assets\n",
    "\n",
    "C_ss = np.dot(gridc.flatten(),vecDstn) # Compute steady state aggregate consumption\n",
    "A_ss = np.dot(grida.flatten() ,vecDstn)# Compute steady state aggregate assets     \n",
    "\n"
   ]
  },
  {
   "cell_type": "code",
   "execution_count": 15,
   "id": "178aeac2",
   "metadata": {},
   "outputs": [
    {
     "name": "stdout",
     "output_type": "stream",
     "text": [
      "steady state Consumption: 1.0067640866750511\n",
      "steady state Assets: 1.1493665250639191\n"
     ]
    }
   ],
   "source": [
    "print('steady state Consumption: ' + str(C_ss[0]))\n",
    "print('steady state Assets: ' + str(A_ss[0]))"
   ]
  },
  {
   "cell_type": "markdown",
   "id": "a414078e",
   "metadata": {},
   "source": [
    "## Solving an Agent who Anticipates a Change in the Interest Rate"
   ]
  },
  {
   "cell_type": "markdown",
   "id": "61400cc1",
   "metadata": {},
   "source": [
    "We need to specify an agent who faces a finite horizon problem. The agent now takes in lists of parameters. Each list is the length of the horizon ($T=30$) in the model. Elements of each list indicate the value of the parameter faced in the respective period."
   ]
  },
  {
   "cell_type": "code",
   "execution_count": 16,
   "id": "2b898628",
   "metadata": {},
   "outputs": [],
   "source": [
    "params = deepcopy(Dict)\n",
    "params['T_cycle']= 30 # Set Horizon Length T = 30\n",
    "params['LivPrb']= params['T_cycle']*[ss.LivPrb[0]] # list of living probabilities\n",
    "params['PermGroFac']=params['T_cycle']*[1] # list of permanent growth factor\n",
    "params['PermShkStd'] = params['T_cycle']*[ss.PermShkStd[0]] # list of permanent shock standard deviations\n",
    "params['TranShkStd']= params['T_cycle']*[ss.TranShkStd[0]] # list of transitory shock standard deviations\n",
    "params['Rfree'] = params['T_cycle']*[ss.Rfree] # list of interest rates (will be changed shortly)\n",
    "\n",
    "FinHorizonAgent = IndShockConsumerType(**params) # input these parameters into the agent.\n",
    "FinHorizonAgent.cycles = 1\n",
    "FinHorizonAgent.del_from_time_inv('Rfree') #delete Rfree from time invariant list since it varies overtime\n",
    "FinHorizonAgent.add_to_time_vary('Rfree')\n",
    "FinHorizonAgent.IncShkDstn = params['T_cycle']*ss.IncShkDstn\n",
    "\n",
    "#Below is crucial!!\n",
    "FinHorizonAgent.cFunc_terminal_ = deepcopy(ss.solution[0].cFunc) # Set Terminal Solution as Steady State Consumption Function\n",
    "\n"
   ]
  },
  {
   "cell_type": "markdown",
   "id": "9bff1e5d",
   "metadata": {},
   "source": [
    "### Implement perturbation in interest rate\n",
    "\n",
    "We specify the list of interest rates the agent faces by FinHorizonAgent.Rfree.\n",
    "Note the 10th element of the list FinHorizonAgent.Rfree has an interest rate that is $.01$ greater than the steady state level."
   ]
  },
  {
   "cell_type": "code",
   "execution_count": 17,
   "id": "3a1059a0",
   "metadata": {},
   "outputs": [],
   "source": [
    "dx=.01 # Change in the Interest Rate\n",
    "i = 10 # Period in which the change in the interest rate occurs\n",
    "FinHorizonAgent.Rfree = (i)*[ss.Rfree] + [ss.Rfree + dx] + (params['T_cycle'] - i -1 )*[ss.Rfree] # Sequence of interest rates the agent faces\n"
   ]
  },
  {
   "cell_type": "markdown",
   "id": "fbd4f108",
   "metadata": {},
   "source": [
    "### Solve Agent and Calculate Transition Matrices"
   ]
  },
  {
   "cell_type": "code",
   "execution_count": 18,
   "id": "2c19a5c4",
   "metadata": {},
   "outputs": [],
   "source": [
    "FinHorizonAgent.solve() #Solve the Agent's problem\n",
    "FinHorizonAgent.Define_Distribution_Grid() \n",
    "FinHorizonAgent.Calc_Transition_Matrix()\n"
   ]
  },
  {
   "cell_type": "markdown",
   "id": "7cc9a8fe",
   "metadata": {},
   "source": [
    "Since this is a finite horizon problem now, example.Calc_Transition_Matrix() now generates:\n",
    "- a list of transition matrices for each period (example.TranMatrix)\n",
    "- a list of consumption policies for each period (example.cPolGrid)\n",
    "- a list of asset policies for each period (example.aPolGrid)\n",
    "\n"
   ]
  },
  {
   "cell_type": "code",
   "execution_count": 19,
   "id": "951422d1",
   "metadata": {},
   "outputs": [],
   "source": [
    "AggC_List =[] # List of aggregate consumption for each period t \n",
    "AggA_List =[] # List of aggregate assets for each period t \n",
    "\n",
    "dstn = vecDstn # Initial distribution set as steady state distribution\n",
    "\n",
    "T=params['T_cycle']\n",
    "for i in range(T):\n",
    "\n",
    "    p = FinHorizonAgent.Dist_pGrid[i]# Permanent income Grid this period\n",
    "    c = FinHorizonAgent.cPolGrid[i] # Consumption Policy Grid this period\n",
    "    a = FinHorizonAgent.aPolGrid[i] # Asset Policy Grid this period\n",
    "        \n",
    "    gridc = np.dot( c.reshape( len(c), 1 ) , p.reshape( 1 , len(p) ) ) #Transform grid from normalized consumption to level of consumption\n",
    "    C = np.dot( gridc.flatten() , dstn )  # Compute Aggregate Consumption this period\n",
    "    AggC_List.append(C)\n",
    "    \n",
    "    grida = np.dot( a.reshape( len(a), 1 ) , p.reshape( 1 , len(p) ) ) #Transform grid from normalized assets to level of assets\n",
    "    A = np.dot( grida.flatten() , dstn ) # Compute Aggregate Assets this period\n",
    "    AggA_List.append(A)\n",
    "    \n",
    "    dstn = np.dot(FinHorizonAgent.TranMatrix[i],dstn) # Iterate Distribution forward\n",
    "    \n",
    "#Transform Lists into tractable arrays\n",
    "AggC_List  = np.array(AggC_List).T[0] \n",
    "AggA_List  = np.array(AggA_List).T[0]"
   ]
  },
  {
   "cell_type": "markdown",
   "id": "df692e41",
   "metadata": {},
   "source": [
    "### Path of Aggregate Consumption given an anticipated interest rate shock at $t=10$"
   ]
  },
  {
   "cell_type": "code",
   "execution_count": null,
   "id": "6f3a8d0c",
   "metadata": {},
   "outputs": [],
   "source": [
    "plt.plot(AggC_List,label= 'Perturbed Consumption' ) # Plots Aggregate Consumption given a change in there interest rate during period 10\n",
    "plt.plot(np.ones( len(AggC_List) )* C_ss,label = 's.s. Consumption', color = 'k') #Plots steady state Aggregate Consumption\n",
    "plt.ylim([1.004,1.01])\n",
    "plt.legend()\n",
    "plt.show()\n",
    "    "
   ]
  },
  {
   "cell_type": "markdown",
   "id": "299348bd",
   "metadata": {},
   "source": [
    "### Path of Aggregate Assets given an anticipated interest rate shock at $t=10$"
   ]
  },
  {
   "cell_type": "code",
   "execution_count": null,
   "id": "02e5304b",
   "metadata": {},
   "outputs": [],
   "source": [
    "plt.plot(AggA_List, label = 'Perturbed Assets') # Plots Aggregate Assets given a change in there interest rate during period 10\n",
    "plt.plot(np.ones( len(AggA_List) )* A_ss,label= 's.s. assets', color= 'k') #Plots steady state Aggregate Assets\n",
    "plt.legend()\n",
    "plt.show()"
   ]
  }
 ],
 "metadata": {
  "kernelspec": {
   "display_name": "Python 3",
   "language": "python",
   "name": "python3"
  },
  "language_info": {
   "codemirror_mode": {
    "name": "ipython",
    "version": 3
   },
   "file_extension": ".py",
   "mimetype": "text/x-python",
   "name": "python",
   "nbconvert_exporter": "python",
   "pygments_lexer": "ipython3",
   "version": "3.8.8"
  }
 },
 "nbformat": 4,
 "nbformat_minor": 5
}
